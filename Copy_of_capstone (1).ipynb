{
  "cells": [
    {
      "cell_type": "markdown",
      "metadata": {
        "id": "F1YjENI601_l"
      },
      "source": [
        "# Import Library"
      ]
    },
    {
      "cell_type": "code",
      "execution_count": 3,
      "metadata": {
        "id": "QBp7t4QYyI4U"
      },
      "outputs": [],
      "source": [
        "import pandas as pd\n",
        "import numpy as np\n",
        "import matplotlib.pyplot as plt\n",
        "import seaborn as sns\n",
        "\n",
        "from sklearn.model_selection import train_test_split, GridSearchCV\n",
        "from sklearn.preprocessing import StandardScaler\n",
        "from sklearn.metrics import accuracy_score, classification_report, confusion_matrix\n",
        "from sklearn.ensemble import RandomForestClassifier\n",
        "from imblearn.over_sampling import SMOTE\n",
        "from sklearn.svm import SVC"
      ]
    },
    {
      "cell_type": "markdown",
      "metadata": {
        "id": "M_H4vEPEDqqR"
      },
      "source": [
        "# Preprocessing Data"
      ]
    },
    {
      "cell_type": "code",
      "execution_count": 4,
      "metadata": {
        "id": "EKdpa2aSzoYv"
      },
      "outputs": [],
      "source": [
        "# LOAD & PREPROCESSING DATASET PIMA\n",
        "pima = pd.read_csv(\"diabetes.csv\")"
      ]
    },
    {
      "cell_type": "code",
      "execution_count": 5,
      "metadata": {
        "id": "ADhFnBde55Jd"
      },
      "outputs": [],
      "source": [
        "# Ganti nilai 0 (yang artinya missing) dengan NaN\n",
        "cols_to_fix = ['Glucose', 'BloodPressure', 'SkinThickness', 'Insulin', 'BMI']\n",
        "pima[cols_to_fix] = pima[cols_to_fix].replace(0, np.nan)"
      ]
    },
    {
      "cell_type": "code",
      "execution_count": 6,
      "metadata": {
        "id": "ocJAHw66zvi8"
      },
      "outputs": [],
      "source": [
        "# Isi missing value Pima dengan median\n",
        "pima[cols_to_fix] = pima[cols_to_fix].fillna(pima[cols_to_fix].median())"
      ]
    },
    {
      "cell_type": "code",
      "execution_count": 7,
      "metadata": {
        "id": "3gpXJT4b0ZFK"
      },
      "outputs": [],
      "source": [
        "# LOAD & PREPROCESSING DATASET NHANES\n",
        "nhanes = pd.read_csv(\"NHANES_age_prediction.csv\")"
      ]
    },
    {
      "cell_type": "code",
      "execution_count": 8,
      "metadata": {
        "id": "ZDGday6f7PcP"
      },
      "outputs": [],
      "source": [
        "# Ambil kolom relevan & ubah nama agar sesuai dengan Pima\n",
        "nhanes_clean = nhanes[['RIDAGEYR', 'BMXBMI', 'LBXGLU', 'LBXIN', 'DIQ010']].copy()\n",
        "nhanes_clean = nhanes_clean.rename(columns={\n",
        "    'RIDAGEYR': 'Age',\n",
        "    'BMXBMI': 'BMI',\n",
        "    'LBXGLU': 'Glucose',\n",
        "    'LBXIN': 'Insulin',\n",
        "    'DIQ010': 'Outcome'\n",
        "})"
      ]
    },
    {
      "cell_type": "code",
      "execution_count": 9,
      "metadata": {
        "id": "KLGWBr5A7fyU"
      },
      "outputs": [],
      "source": [
        "# Konversi label NHANES (1 = diabetes, 2/3 = bukan diabetes)\n",
        "nhanes_clean['Outcome'] = nhanes_clean['Outcome'].replace({2: 0, 3: 0})"
      ]
    },
    {
      "cell_type": "code",
      "execution_count": 10,
      "metadata": {
        "id": "t7dad91fD-eM"
      },
      "outputs": [],
      "source": [
        "# Tambahkan kolom kosong agar strukturnya seragam dengan Pima\n",
        "nhanes_clean['Pregnancies'] = 0\n",
        "nhanes_clean['BloodPressure'] = np.nan\n",
        "nhanes_clean['SkinThickness'] = np.nan\n",
        "nhanes_clean['DiabetesPedigreeFunction'] = 0.5  # nilai asumsi default"
      ]
    },
    {
      "cell_type": "code",
      "execution_count": 11,
      "metadata": {
        "id": "erfKrKPq2wG_"
      },
      "outputs": [],
      "source": [
        "# Susun ulang kolom\n",
        "column_order = ['Pregnancies', 'Glucose', 'BloodPressure', 'SkinThickness',\n",
        "                'Insulin', 'BMI', 'DiabetesPedigreeFunction', 'Age', 'Outcome']\n",
        "nhanes_clean = nhanes_clean[column_order]"
      ]
    },
    {
      "cell_type": "code",
      "execution_count": 12,
      "metadata": {
        "id": "QQLEu7PD20SL"
      },
      "outputs": [],
      "source": [
        "# Isi missing values NHANES dengan median\n",
        "nhanes_clean[cols_to_fix] = nhanes_clean[cols_to_fix].fillna(nhanes_clean[cols_to_fix].median())"
      ]
    },
    {
      "cell_type": "code",
      "execution_count": 13,
      "metadata": {
        "colab": {
          "base_uri": "https://localhost:8080/",
          "height": 206
        },
        "id": "TI80lxBV5YyD",
        "outputId": "3a45c9a7-105f-4f53-b5fc-4fab745c2509"
      },
      "outputs": [
        {
          "output_type": "execute_result",
          "data": {
            "text/plain": [
              "   Pregnancies  Glucose  BloodPressure  SkinThickness  Insulin   BMI  \\\n",
              "0            6    148.0           72.0           35.0    125.0  33.6   \n",
              "1            1     85.0           66.0           29.0    125.0  26.6   \n",
              "2            8    183.0           64.0           29.0    125.0  23.3   \n",
              "3            1     89.0           66.0           23.0     94.0  28.1   \n",
              "4            0    137.0           40.0           35.0    168.0  43.1   \n",
              "\n",
              "   DiabetesPedigreeFunction   Age  Outcome  \n",
              "0                     0.627  50.0      1.0  \n",
              "1                     0.351  31.0      0.0  \n",
              "2                     0.672  32.0      1.0  \n",
              "3                     0.167  21.0      0.0  \n",
              "4                     2.288  33.0      1.0  "
            ],
            "text/html": [
              "\n",
              "  <div id=\"df-07dc97af-fb56-41e3-abda-e4b2bdb37ceb\" class=\"colab-df-container\">\n",
              "    <div>\n",
              "<style scoped>\n",
              "    .dataframe tbody tr th:only-of-type {\n",
              "        vertical-align: middle;\n",
              "    }\n",
              "\n",
              "    .dataframe tbody tr th {\n",
              "        vertical-align: top;\n",
              "    }\n",
              "\n",
              "    .dataframe thead th {\n",
              "        text-align: right;\n",
              "    }\n",
              "</style>\n",
              "<table border=\"1\" class=\"dataframe\">\n",
              "  <thead>\n",
              "    <tr style=\"text-align: right;\">\n",
              "      <th></th>\n",
              "      <th>Pregnancies</th>\n",
              "      <th>Glucose</th>\n",
              "      <th>BloodPressure</th>\n",
              "      <th>SkinThickness</th>\n",
              "      <th>Insulin</th>\n",
              "      <th>BMI</th>\n",
              "      <th>DiabetesPedigreeFunction</th>\n",
              "      <th>Age</th>\n",
              "      <th>Outcome</th>\n",
              "    </tr>\n",
              "  </thead>\n",
              "  <tbody>\n",
              "    <tr>\n",
              "      <th>0</th>\n",
              "      <td>6</td>\n",
              "      <td>148.0</td>\n",
              "      <td>72.0</td>\n",
              "      <td>35.0</td>\n",
              "      <td>125.0</td>\n",
              "      <td>33.6</td>\n",
              "      <td>0.627</td>\n",
              "      <td>50.0</td>\n",
              "      <td>1.0</td>\n",
              "    </tr>\n",
              "    <tr>\n",
              "      <th>1</th>\n",
              "      <td>1</td>\n",
              "      <td>85.0</td>\n",
              "      <td>66.0</td>\n",
              "      <td>29.0</td>\n",
              "      <td>125.0</td>\n",
              "      <td>26.6</td>\n",
              "      <td>0.351</td>\n",
              "      <td>31.0</td>\n",
              "      <td>0.0</td>\n",
              "    </tr>\n",
              "    <tr>\n",
              "      <th>2</th>\n",
              "      <td>8</td>\n",
              "      <td>183.0</td>\n",
              "      <td>64.0</td>\n",
              "      <td>29.0</td>\n",
              "      <td>125.0</td>\n",
              "      <td>23.3</td>\n",
              "      <td>0.672</td>\n",
              "      <td>32.0</td>\n",
              "      <td>1.0</td>\n",
              "    </tr>\n",
              "    <tr>\n",
              "      <th>3</th>\n",
              "      <td>1</td>\n",
              "      <td>89.0</td>\n",
              "      <td>66.0</td>\n",
              "      <td>23.0</td>\n",
              "      <td>94.0</td>\n",
              "      <td>28.1</td>\n",
              "      <td>0.167</td>\n",
              "      <td>21.0</td>\n",
              "      <td>0.0</td>\n",
              "    </tr>\n",
              "    <tr>\n",
              "      <th>4</th>\n",
              "      <td>0</td>\n",
              "      <td>137.0</td>\n",
              "      <td>40.0</td>\n",
              "      <td>35.0</td>\n",
              "      <td>168.0</td>\n",
              "      <td>43.1</td>\n",
              "      <td>2.288</td>\n",
              "      <td>33.0</td>\n",
              "      <td>1.0</td>\n",
              "    </tr>\n",
              "  </tbody>\n",
              "</table>\n",
              "</div>\n",
              "    <div class=\"colab-df-buttons\">\n",
              "\n",
              "  <div class=\"colab-df-container\">\n",
              "    <button class=\"colab-df-convert\" onclick=\"convertToInteractive('df-07dc97af-fb56-41e3-abda-e4b2bdb37ceb')\"\n",
              "            title=\"Convert this dataframe to an interactive table.\"\n",
              "            style=\"display:none;\">\n",
              "\n",
              "  <svg xmlns=\"http://www.w3.org/2000/svg\" height=\"24px\" viewBox=\"0 -960 960 960\">\n",
              "    <path d=\"M120-120v-720h720v720H120Zm60-500h600v-160H180v160Zm220 220h160v-160H400v160Zm0 220h160v-160H400v160ZM180-400h160v-160H180v160Zm440 0h160v-160H620v160ZM180-180h160v-160H180v160Zm440 0h160v-160H620v160Z\"/>\n",
              "  </svg>\n",
              "    </button>\n",
              "\n",
              "  <style>\n",
              "    .colab-df-container {\n",
              "      display:flex;\n",
              "      gap: 12px;\n",
              "    }\n",
              "\n",
              "    .colab-df-convert {\n",
              "      background-color: #E8F0FE;\n",
              "      border: none;\n",
              "      border-radius: 50%;\n",
              "      cursor: pointer;\n",
              "      display: none;\n",
              "      fill: #1967D2;\n",
              "      height: 32px;\n",
              "      padding: 0 0 0 0;\n",
              "      width: 32px;\n",
              "    }\n",
              "\n",
              "    .colab-df-convert:hover {\n",
              "      background-color: #E2EBFA;\n",
              "      box-shadow: 0px 1px 2px rgba(60, 64, 67, 0.3), 0px 1px 3px 1px rgba(60, 64, 67, 0.15);\n",
              "      fill: #174EA6;\n",
              "    }\n",
              "\n",
              "    .colab-df-buttons div {\n",
              "      margin-bottom: 4px;\n",
              "    }\n",
              "\n",
              "    [theme=dark] .colab-df-convert {\n",
              "      background-color: #3B4455;\n",
              "      fill: #D2E3FC;\n",
              "    }\n",
              "\n",
              "    [theme=dark] .colab-df-convert:hover {\n",
              "      background-color: #434B5C;\n",
              "      box-shadow: 0px 1px 3px 1px rgba(0, 0, 0, 0.15);\n",
              "      filter: drop-shadow(0px 1px 2px rgba(0, 0, 0, 0.3));\n",
              "      fill: #FFFFFF;\n",
              "    }\n",
              "  </style>\n",
              "\n",
              "    <script>\n",
              "      const buttonEl =\n",
              "        document.querySelector('#df-07dc97af-fb56-41e3-abda-e4b2bdb37ceb button.colab-df-convert');\n",
              "      buttonEl.style.display =\n",
              "        google.colab.kernel.accessAllowed ? 'block' : 'none';\n",
              "\n",
              "      async function convertToInteractive(key) {\n",
              "        const element = document.querySelector('#df-07dc97af-fb56-41e3-abda-e4b2bdb37ceb');\n",
              "        const dataTable =\n",
              "          await google.colab.kernel.invokeFunction('convertToInteractive',\n",
              "                                                    [key], {});\n",
              "        if (!dataTable) return;\n",
              "\n",
              "        const docLinkHtml = 'Like what you see? Visit the ' +\n",
              "          '<a target=\"_blank\" href=https://colab.research.google.com/notebooks/data_table.ipynb>data table notebook</a>'\n",
              "          + ' to learn more about interactive tables.';\n",
              "        element.innerHTML = '';\n",
              "        dataTable['output_type'] = 'display_data';\n",
              "        await google.colab.output.renderOutput(dataTable, element);\n",
              "        const docLink = document.createElement('div');\n",
              "        docLink.innerHTML = docLinkHtml;\n",
              "        element.appendChild(docLink);\n",
              "      }\n",
              "    </script>\n",
              "  </div>\n",
              "\n",
              "\n",
              "    <div id=\"df-fa2e9007-808c-45fa-a056-44f938abafcb\">\n",
              "      <button class=\"colab-df-quickchart\" onclick=\"quickchart('df-fa2e9007-808c-45fa-a056-44f938abafcb')\"\n",
              "                title=\"Suggest charts\"\n",
              "                style=\"display:none;\">\n",
              "\n",
              "<svg xmlns=\"http://www.w3.org/2000/svg\" height=\"24px\"viewBox=\"0 0 24 24\"\n",
              "     width=\"24px\">\n",
              "    <g>\n",
              "        <path d=\"M19 3H5c-1.1 0-2 .9-2 2v14c0 1.1.9 2 2 2h14c1.1 0 2-.9 2-2V5c0-1.1-.9-2-2-2zM9 17H7v-7h2v7zm4 0h-2V7h2v10zm4 0h-2v-4h2v4z\"/>\n",
              "    </g>\n",
              "</svg>\n",
              "      </button>\n",
              "\n",
              "<style>\n",
              "  .colab-df-quickchart {\n",
              "      --bg-color: #E8F0FE;\n",
              "      --fill-color: #1967D2;\n",
              "      --hover-bg-color: #E2EBFA;\n",
              "      --hover-fill-color: #174EA6;\n",
              "      --disabled-fill-color: #AAA;\n",
              "      --disabled-bg-color: #DDD;\n",
              "  }\n",
              "\n",
              "  [theme=dark] .colab-df-quickchart {\n",
              "      --bg-color: #3B4455;\n",
              "      --fill-color: #D2E3FC;\n",
              "      --hover-bg-color: #434B5C;\n",
              "      --hover-fill-color: #FFFFFF;\n",
              "      --disabled-bg-color: #3B4455;\n",
              "      --disabled-fill-color: #666;\n",
              "  }\n",
              "\n",
              "  .colab-df-quickchart {\n",
              "    background-color: var(--bg-color);\n",
              "    border: none;\n",
              "    border-radius: 50%;\n",
              "    cursor: pointer;\n",
              "    display: none;\n",
              "    fill: var(--fill-color);\n",
              "    height: 32px;\n",
              "    padding: 0;\n",
              "    width: 32px;\n",
              "  }\n",
              "\n",
              "  .colab-df-quickchart:hover {\n",
              "    background-color: var(--hover-bg-color);\n",
              "    box-shadow: 0 1px 2px rgba(60, 64, 67, 0.3), 0 1px 3px 1px rgba(60, 64, 67, 0.15);\n",
              "    fill: var(--button-hover-fill-color);\n",
              "  }\n",
              "\n",
              "  .colab-df-quickchart-complete:disabled,\n",
              "  .colab-df-quickchart-complete:disabled:hover {\n",
              "    background-color: var(--disabled-bg-color);\n",
              "    fill: var(--disabled-fill-color);\n",
              "    box-shadow: none;\n",
              "  }\n",
              "\n",
              "  .colab-df-spinner {\n",
              "    border: 2px solid var(--fill-color);\n",
              "    border-color: transparent;\n",
              "    border-bottom-color: var(--fill-color);\n",
              "    animation:\n",
              "      spin 1s steps(1) infinite;\n",
              "  }\n",
              "\n",
              "  @keyframes spin {\n",
              "    0% {\n",
              "      border-color: transparent;\n",
              "      border-bottom-color: var(--fill-color);\n",
              "      border-left-color: var(--fill-color);\n",
              "    }\n",
              "    20% {\n",
              "      border-color: transparent;\n",
              "      border-left-color: var(--fill-color);\n",
              "      border-top-color: var(--fill-color);\n",
              "    }\n",
              "    30% {\n",
              "      border-color: transparent;\n",
              "      border-left-color: var(--fill-color);\n",
              "      border-top-color: var(--fill-color);\n",
              "      border-right-color: var(--fill-color);\n",
              "    }\n",
              "    40% {\n",
              "      border-color: transparent;\n",
              "      border-right-color: var(--fill-color);\n",
              "      border-top-color: var(--fill-color);\n",
              "    }\n",
              "    60% {\n",
              "      border-color: transparent;\n",
              "      border-right-color: var(--fill-color);\n",
              "    }\n",
              "    80% {\n",
              "      border-color: transparent;\n",
              "      border-right-color: var(--fill-color);\n",
              "      border-bottom-color: var(--fill-color);\n",
              "    }\n",
              "    90% {\n",
              "      border-color: transparent;\n",
              "      border-bottom-color: var(--fill-color);\n",
              "    }\n",
              "  }\n",
              "</style>\n",
              "\n",
              "      <script>\n",
              "        async function quickchart(key) {\n",
              "          const quickchartButtonEl =\n",
              "            document.querySelector('#' + key + ' button');\n",
              "          quickchartButtonEl.disabled = true;  // To prevent multiple clicks.\n",
              "          quickchartButtonEl.classList.add('colab-df-spinner');\n",
              "          try {\n",
              "            const charts = await google.colab.kernel.invokeFunction(\n",
              "                'suggestCharts', [key], {});\n",
              "          } catch (error) {\n",
              "            console.error('Error during call to suggestCharts:', error);\n",
              "          }\n",
              "          quickchartButtonEl.classList.remove('colab-df-spinner');\n",
              "          quickchartButtonEl.classList.add('colab-df-quickchart-complete');\n",
              "        }\n",
              "        (() => {\n",
              "          let quickchartButtonEl =\n",
              "            document.querySelector('#df-fa2e9007-808c-45fa-a056-44f938abafcb button');\n",
              "          quickchartButtonEl.style.display =\n",
              "            google.colab.kernel.accessAllowed ? 'block' : 'none';\n",
              "        })();\n",
              "      </script>\n",
              "    </div>\n",
              "\n",
              "    </div>\n",
              "  </div>\n"
            ],
            "application/vnd.google.colaboratory.intrinsic+json": {
              "type": "dataframe",
              "summary": "{\n  \"name\": \"# combined_df\",\n  \"rows\": 5,\n  \"fields\": [\n    {\n      \"column\": \"Pregnancies\",\n      \"properties\": {\n        \"dtype\": \"number\",\n        \"std\": 3,\n        \"min\": 0,\n        \"max\": 8,\n        \"num_unique_values\": 4,\n        \"samples\": [\n          1,\n          0,\n          6\n        ],\n        \"semantic_type\": \"\",\n        \"description\": \"\"\n      }\n    },\n    {\n      \"column\": \"Glucose\",\n      \"properties\": {\n        \"dtype\": \"number\",\n        \"std\": 41.4584128977461,\n        \"min\": 85.0,\n        \"max\": 183.0,\n        \"num_unique_values\": 5,\n        \"samples\": [\n          85.0,\n          137.0,\n          183.0\n        ],\n        \"semantic_type\": \"\",\n        \"description\": \"\"\n      }\n    },\n    {\n      \"column\": \"BloodPressure\",\n      \"properties\": {\n        \"dtype\": \"number\",\n        \"std\": 12.441864811996632,\n        \"min\": 40.0,\n        \"max\": 72.0,\n        \"num_unique_values\": 4,\n        \"samples\": [\n          66.0,\n          40.0,\n          72.0\n        ],\n        \"semantic_type\": \"\",\n        \"description\": \"\"\n      }\n    },\n    {\n      \"column\": \"SkinThickness\",\n      \"properties\": {\n        \"dtype\": \"number\",\n        \"std\": 5.019960159204453,\n        \"min\": 23.0,\n        \"max\": 35.0,\n        \"num_unique_values\": 3,\n        \"samples\": [\n          35.0,\n          29.0,\n          23.0\n        ],\n        \"semantic_type\": \"\",\n        \"description\": \"\"\n      }\n    },\n    {\n      \"column\": \"Insulin\",\n      \"properties\": {\n        \"dtype\": \"number\",\n        \"std\": 26.36854186336438,\n        \"min\": 94.0,\n        \"max\": 168.0,\n        \"num_unique_values\": 3,\n        \"samples\": [\n          125.0,\n          94.0,\n          168.0\n        ],\n        \"semantic_type\": \"\",\n        \"description\": \"\"\n      }\n    },\n    {\n      \"column\": \"BMI\",\n      \"properties\": {\n        \"dtype\": \"number\",\n        \"std\": 7.749387072536769,\n        \"min\": 23.3,\n        \"max\": 43.1,\n        \"num_unique_values\": 5,\n        \"samples\": [\n          26.6,\n          43.1,\n          23.3\n        ],\n        \"semantic_type\": \"\",\n        \"description\": \"\"\n      }\n    },\n    {\n      \"column\": \"DiabetesPedigreeFunction\",\n      \"properties\": {\n        \"dtype\": \"number\",\n        \"std\": 0.8456568452983751,\n        \"min\": 0.167,\n        \"max\": 2.288,\n        \"num_unique_values\": 5,\n        \"samples\": [\n          0.351,\n          2.288,\n          0.672\n        ],\n        \"semantic_type\": \"\",\n        \"description\": \"\"\n      }\n    },\n    {\n      \"column\": \"Age\",\n      \"properties\": {\n        \"dtype\": \"number\",\n        \"std\": 10.4546640309481,\n        \"min\": 21.0,\n        \"max\": 50.0,\n        \"num_unique_values\": 5,\n        \"samples\": [\n          31.0,\n          33.0,\n          32.0\n        ],\n        \"semantic_type\": \"\",\n        \"description\": \"\"\n      }\n    },\n    {\n      \"column\": \"Outcome\",\n      \"properties\": {\n        \"dtype\": \"number\",\n        \"std\": 0.5477225575051662,\n        \"min\": 0.0,\n        \"max\": 1.0,\n        \"num_unique_values\": 2,\n        \"samples\": [\n          0.0,\n          1.0\n        ],\n        \"semantic_type\": \"\",\n        \"description\": \"\"\n      }\n    }\n  ]\n}"
            }
          },
          "metadata": {},
          "execution_count": 13
        }
      ],
      "source": [
        "# GABUNGKAN DATASET PIMA + NHANES\n",
        "combined_df = pd.concat([pima, nhanes_clean], ignore_index=True)\n",
        "combined_df.head()\n",
        "# combined_df.info()"
      ]
    },
    {
      "cell_type": "code",
      "execution_count": 14,
      "metadata": {
        "id": "Kg8HofsR4RnL"
      },
      "outputs": [],
      "source": [
        "# TANGANI OUTLIER DENGAN METODE IQR\n",
        "def remove_outliers_iqr(df, columns):\n",
        "    for col in columns:\n",
        "        Q1 = df[col].quantile(0.25)\n",
        "        Q3 = df[col].quantile(0.75)\n",
        "        IQR = Q3 - Q1\n",
        "        lower = Q1 - 1.5 * IQR\n",
        "        upper = Q3 + 1.5 * IQR\n",
        "        df = df[(df[col] >= lower) & (df[col] <= upper)]\n",
        "    return df\n",
        "\n",
        "combined_df = remove_outliers_iqr(combined_df, cols_to_fix + ['Age'])"
      ]
    },
    {
      "cell_type": "code",
      "execution_count": 15,
      "metadata": {
        "id": "2qhKVAWVFd8G"
      },
      "outputs": [],
      "source": [
        "# PISAHKAN FITUR & TARGET\n",
        "X = combined_df.drop(columns='Outcome') #features\n",
        "y = combined_df['Outcome'] # only outcome that is to be predicted"
      ]
    },
    {
      "cell_type": "code",
      "execution_count": 16,
      "metadata": {
        "id": "JGFSP3Dk4W-6"
      },
      "outputs": [],
      "source": [
        "# FEATURE SCALING\n",
        "scaler = StandardScaler()\n",
        "X_scaled = scaler.fit_transform(X)"
      ]
    },
    {
      "cell_type": "code",
      "execution_count": 17,
      "metadata": {
        "id": "FjedJGYV1klO"
      },
      "outputs": [],
      "source": [
        "# SMOTE (balancing)\n",
        "smote = SMOTE(random_state=42)\n",
        "X_bal, y_bal = smote.fit_resample(X_scaled, y)"
      ]
    },
    {
      "cell_type": "code",
      "execution_count": 18,
      "metadata": {
        "id": "QtNpGJ1-zalE"
      },
      "outputs": [],
      "source": [
        "# SPLIT DATA\n",
        "X_train, X_test, y_train, y_test = train_test_split(\n",
        "    X_scaled, y, test_size=0.2, stratify=y, random_state=42\n",
        ")"
      ]
    },
    {
      "cell_type": "markdown",
      "metadata": {
        "id": "XXxPNULy5hyq"
      },
      "source": [
        "#  Training Model ML"
      ]
    },
    {
      "cell_type": "code",
      "execution_count": 19,
      "metadata": {
        "colab": {
          "base_uri": "https://localhost:8080/"
        },
        "id": "BbsyCMqD4Zck",
        "outputId": "01810e16-e980-4848-b23a-491fa374c895"
      },
      "outputs": [
        {
          "output_type": "stream",
          "name": "stdout",
          "text": [
            "Fitting 3 folds for each of 81 candidates, totalling 243 fits\n"
          ]
        }
      ],
      "source": [
        "# Hyperparameter tuning untuk RandomForest menggunakan GridSearchCV\n",
        "param_grid = {\n",
        "    'n_estimators': [100, 200, 300],\n",
        "    'max_depth': [10, 15, 20],\n",
        "    'min_samples_split': [2, 5, 10],\n",
        "    'min_samples_leaf': [1, 2, 4]\n",
        "}\n",
        "\n",
        "rf = RandomForestClassifier(random_state=42)\n",
        "grid_search = GridSearchCV(estimator=rf, param_grid=param_grid, cv=3, n_jobs=-1, verbose=2)\n",
        "grid_search.fit(X_train, y_train)\n",
        "\n",
        "# Pilih model terbaik\n",
        "best_rf = grid_search.best_estimator_\n",
        "\n",
        "# Prediksi\n",
        "y_pred = best_rf.predict(X_test)"
      ]
    },
    {
      "cell_type": "markdown",
      "metadata": {
        "id": "Fyfy7v7CEhtr"
      },
      "source": [
        "# Evaluasi Model"
      ]
    },
    {
      "cell_type": "code",
      "execution_count": 20,
      "metadata": {
        "colab": {
          "base_uri": "https://localhost:8080/",
          "height": 636
        },
        "id": "vOkX5UMIEjAv",
        "outputId": "bfa8fb20-080e-4686-e8ab-0fb34d88543f"
      },
      "outputs": [
        {
          "output_type": "stream",
          "name": "stdout",
          "text": [
            "=== EVALUASI MODEL ===\n",
            "Akurasi: 76.71 %\n",
            "\n",
            "Classification Report:\n",
            "               precision    recall  f1-score   support\n",
            "\n",
            "         0.0       0.78      0.96      0.86        56\n",
            "         1.0       0.50      0.12      0.19        17\n",
            "\n",
            "    accuracy                           0.77        73\n",
            "   macro avg       0.64      0.54      0.53        73\n",
            "weighted avg       0.72      0.77      0.71        73\n",
            "\n"
          ]
        },
        {
          "output_type": "display_data",
          "data": {
            "text/plain": [
              "<Figure size 600x400 with 2 Axes>"
            ],
            "image/png": "[encoded data removed]"
          },
          "metadata": {}
        }
      ],
      "source": [
        "# Evaluasi\n",
        "print(\"=== EVALUASI MODEL ===\")\n",
        "print(\"Akurasi:\", round(accuracy_score(y_test, y_pred) * 100, 2), \"%\")\n",
        "print(\"\\nClassification Report:\\n\", classification_report(y_test, y_pred))\n",
        "\n",
        "# Confusion Matrix\n",
        "cm = confusion_matrix(y_test, y_pred)\n",
        "labels = ['Tidak Diabetes', 'Diabetes']\n",
        "\n",
        "plt.figure(figsize=(6, 4))\n",
        "sns.heatmap(cm, annot=True, fmt='d', cmap='Blues',\n",
        "            xticklabels=labels, yticklabels=labels)\n",
        "plt.xlabel('Predicted')\n",
        "plt.ylabel('Actual')\n",
        "plt.title('Confusion Matrix')\n",
        "plt.show()"
      ]
    },
    {
      "cell_type": "markdown",
      "metadata": {
        "id": "PVwdZLuxjCqa"
      },
      "source": [
        "# Feature Selection"
      ]
    },
    {
      "cell_type": "code",
      "execution_count": 21,
      "metadata": {
        "colab": {
          "base_uri": "https://localhost:8080/"
        },
        "id": "ESO-lgShjQcQ",
        "outputId": "1702105f-42ad-45ab-f3ab-854d4dc6f5f2"
      },
      "outputs": [
        {
          "output_type": "stream",
          "name": "stdout",
          "text": [
            "Fitur yang dipilih dengan Wrapper Methods: [1 5 6 7]\n"
          ]
        }
      ],
      "source": [
        "# Menggunakan RFE (Recursive Feature Elimination)\n",
        "\n",
        "from sklearn.feature_selection import RFE\n",
        "model = RandomForestClassifier(random_state=42)\n",
        "rfe_selector = RFE(estimator=model, n_features_to_select=4)  # Memilih 2 fitur\n",
        "X_train_rfe = rfe_selector.fit_transform(X_train, y_train)\n",
        "X_test_rfe = rfe_selector.transform(X_test)\n",
        "\n",
        "print(\"Fitur yang dipilih dengan Wrapper Methods:\", rfe_selector.get_support(indices=True))"
      ]
    },
    {
      "cell_type": "markdown",
      "metadata": {
        "id": "wUBRvjq9jTHq"
      },
      "source": [
        "# Tuning Hyperparameter"
      ]
    },
    {
      "cell_type": "code",
      "execution_count": 22,
      "metadata": {
        "colab": {
          "base_uri": "https://localhost:8080/"
        },
        "id": "0-e_alssjhXQ",
        "outputId": "66471dd7-0ccb-454c-e00f-f2369e2bee4b"
      },
      "outputs": [
        {
          "output_type": "stream",
          "name": "stdout",
          "text": [
            "Fitting 3 folds for each of 81 candidates, totalling 243 fits\n"
          ]
        }
      ],
      "source": [
        "param_grid = {\n",
        "    'n_estimators': [100, 200, 300],\n",
        "    'max_depth': [10, 15, 20],\n",
        "    'min_samples_split': [2, 5, 10],\n",
        "    'min_samples_leaf': [1, 2, 4]\n",
        "}\n",
        "\n",
        "grid_search = GridSearchCV(estimator=model, param_grid=param_grid, cv=3, n_jobs=-1, verbose=2)\n",
        "grid_search.fit(X_train_rfe, y_train)\n",
        "\n",
        "# Pilih model terbaik\n",
        "best_rf_rfe = grid_search.best_estimator_\n",
        "\n",
        "# Prediksi\n",
        "y_pred_rfe = best_rf_rfe.predict(X_test_rfe)"
      ]
    },
    {
      "cell_type": "code",
      "execution_count": 23,
      "metadata": {
        "colab": {
          "base_uri": "https://localhost:8080/",
          "height": 636
        },
        "id": "rvJ-lWGi7rSj",
        "outputId": "c5231a53-0207-48aa-d3b7-b3c7a6f6c290",
        "scrolled": true
      },
      "outputs": [
        {
          "output_type": "stream",
          "name": "stdout",
          "text": [
            "=== EVALUASI MODEL ===\n",
            "Akurasi: 80.82 %\n",
            "\n",
            "Classification Report:\n",
            "               precision    recall  f1-score   support\n",
            "\n",
            "         0.0       0.83      0.95      0.88        56\n",
            "         1.0       0.67      0.35      0.46        17\n",
            "\n",
            "    accuracy                           0.81        73\n",
            "   macro avg       0.75      0.65      0.67        73\n",
            "weighted avg       0.79      0.81      0.79        73\n",
            "\n"
          ]
        },
        {
          "output_type": "display_data",
          "data": {
            "text/plain": [
              "<Figure size 600x400 with 2 Axes>"
            ],
            "image/png": "[encoded data removed]"
          },
          "metadata": {}
        }
      ],
      "source": [
        "# Evaluasi\n",
        "print(\"=== EVALUASI MODEL ===\")\n",
        "print(\"Akurasi:\", round(accuracy_score(y_test, y_pred_rfe) * 100, 2), \"%\")\n",
        "print(\"\\nClassification Report:\\n\", classification_report(y_test, y_pred_rfe))\n",
        "\n",
        "# Confusion Matrix\n",
        "cm = confusion_matrix(y_test, y_pred_rfe)\n",
        "labels = ['Tidak Diabetes', 'Diabetes']\n",
        "\n",
        "plt.figure(figsize=(6, 4))\n",
        "sns.heatmap(cm, annot=True, fmt='d', cmap='Blues',\n",
        "            xticklabels=labels, yticklabels=labels)\n",
        "plt.xlabel('Predicted')\n",
        "plt.ylabel('Actual')\n",
        "plt.title('Confusion Matrix')\n",
        "plt.show()"
      ]
    },
    {
      "cell_type": "markdown",
      "metadata": {
        "id": "UwrVd-vZedQd"
      },
      "source": [
        "# Eksperimen Model Alternatif"
      ]
    },
    {
      "cell_type": "code",
      "execution_count": 24,
      "metadata": {
        "scrolled": true,
        "id": "y7Yy7FkJedQd",
        "outputId": "a35724fb-7086-4b89-c8a8-43ea5911037f",
        "colab": {
          "base_uri": "https://localhost:8080/",
          "height": 653
        }
      },
      "outputs": [
        {
          "output_type": "stream",
          "name": "stdout",
          "text": [
            "\n",
            "=== EVALUASI MODEL SVM ===\n",
            "Akurasi SVM: 79.45 %\n",
            "\n",
            "Classification Report SVM:\n",
            "               precision    recall  f1-score   support\n",
            "\n",
            "         0.0       0.81      0.96      0.88        56\n",
            "         1.0       0.67      0.24      0.35        17\n",
            "\n",
            "    accuracy                           0.79        73\n",
            "   macro avg       0.74      0.60      0.61        73\n",
            "weighted avg       0.77      0.79      0.75        73\n",
            "\n"
          ]
        },
        {
          "output_type": "display_data",
          "data": {
            "text/plain": [
              "<Figure size 600x400 with 2 Axes>"
            ],
            "image/png": "[encoded data removed]"
          },
          "metadata": {}
        }
      ],
      "source": [
        "# Eksperimen Model Alternatif - Support Vector Machine\n",
        "\n",
        "# Inisialisasi model SVM\n",
        "svm_model = SVC(random_state=42)\n",
        "\n",
        "# Latih model SVM menggunakan data training yang sudah melalui feature selection\n",
        "# Jika Anda ingin melatih pada data X_scaled (tanpa feature selection), ganti X_train_rfe menjadi X_train\n",
        "svm_model.fit(X_train_rfe, y_train)\n",
        "\n",
        "# Prediksi menggunakan model SVM\n",
        "y_pred_svm = svm_model.predict(X_test_rfe)\n",
        "\n",
        "# Evaluasi model SVM\n",
        "print(\"\\n=== EVALUASI MODEL SVM ===\")\n",
        "print(\"Akurasi SVM:\", round(accuracy_score(y_test, y_pred_svm) * 100, 2), \"%\")\n",
        "print(\"\\nClassification Report SVM:\\n\", classification_report(y_test, y_pred_svm))\n",
        "\n",
        "# Confusion Matrix untuk model SVM\n",
        "cm_svm = confusion_matrix(y_test, y_pred_svm)\n",
        "\n",
        "plt.figure(figsize=(6, 4))\n",
        "sns.heatmap(cm_svm, annot=True, fmt='d', cmap='Blues',\n",
        "            xticklabels=labels, yticklabels=labels)\n",
        "plt.xlabel('Predicted')\n",
        "plt.ylabel('Actual')\n",
        "plt.title('Confusion Matrix - SVM')\n",
        "plt.show()"
      ]
    },
    {
      "cell_type": "code",
      "execution_count": 25,
      "metadata": {
        "id": "VGRVZAjEedQe",
        "outputId": "5f3323ee-67ac-4d34-dbf8-a91e3098afcb",
        "colab": {
          "base_uri": "https://localhost:8080/",
          "height": 722
        }
      },
      "outputs": [
        {
          "output_type": "stream",
          "name": "stdout",
          "text": [
            "Fitting 3 folds for each of 27 candidates, totalling 81 fits\n",
            "\n",
            "Hyperparameter terbaik untuk Gradient Boosting Classifier:\n",
            "{'learning_rate': 0.01, 'max_depth': 3, 'n_estimators': 100}\n",
            "\n",
            "=== EVALUASI MODEL GRADIENT BOOSTING TERBAIK ===\n",
            "Akurasi GB Terbaik: 80.82 %\n",
            "\n",
            "Classification Report GB Terbaik:\n",
            "               precision    recall  f1-score   support\n",
            "\n",
            "         0.0       0.81      0.98      0.89        56\n",
            "         1.0       0.80      0.24      0.36        17\n",
            "\n",
            "    accuracy                           0.81        73\n",
            "   macro avg       0.80      0.61      0.63        73\n",
            "weighted avg       0.81      0.81      0.77        73\n",
            "\n"
          ]
        },
        {
          "output_type": "display_data",
          "data": {
            "text/plain": [
              "<Figure size 600x400 with 2 Axes>"
            ],
            "image/png": "[encoded data removed]"
          },
          "metadata": {}
        }
      ],
      "source": [
        "# Eksperimen dengan Gradient Boosting Classifier\n",
        "\n",
        "from sklearn.ensemble import GradientBoostingClassifier\n",
        "\n",
        "# Definisikan rentang hyperparameter untuk Gradient Boosting\n",
        "# Ini adalah contoh param_grid, Anda mungkin perlu menyesuaikannya\n",
        "param_grid_gb = {\n",
        "    'n_estimators': [50, 100, 200], # Number of boosting stages\n",
        "    'learning_rate': [0.01, 0.1, 0.2], # Step size shrinkage\n",
        "    'max_depth': [3, 5, 7]          # Maximum depth of the individual estimators\n",
        "}\n",
        "\n",
        "# Inisialisasi model Gradient Boosting\n",
        "gb_model_grid = GradientBoostingClassifier(random_state=42)\n",
        "\n",
        "# Inisialisasi GridSearchCV untuk Gradient Boosting\n",
        "grid_search_gb = GridSearchCV(estimator=gb_model_grid, param_grid=param_grid_gb,\n",
        "                              cv=3, n_jobs=-1, verbose=2)\n",
        "\n",
        "# Lakukan tuning pada data training (gunakan data RFE jika sebelumnya digunakan)\n",
        "# Jika Anda ingin tuning pada data X_scaled (tanpa feature selection), ganti X_train_rfe menjadi X_train\n",
        "grid_search_gb.fit(X_train_rfe, y_train)\n",
        "\n",
        "# Pilih model Gradient Boosting terbaik hasil tuning\n",
        "best_gb = grid_search_gb.best_estimator_\n",
        "\n",
        "print(\"\\nHyperparameter terbaik untuk Gradient Boosting Classifier:\")\n",
        "print(grid_search_gb.best_params_)\n",
        "\n",
        "# Prediksi menggunakan model Gradient Boosting terbaik\n",
        "y_pred_best_gb = best_gb.predict(X_test_rfe)\n",
        "\n",
        "# Evaluasi model Gradient Boosting terbaik\n",
        "print(\"\\n=== EVALUASI MODEL GRADIENT BOOSTING TERBAIK ===\")\n",
        "print(\"Akurasi GB Terbaik:\", round(accuracy_score(y_test, y_pred_best_gb) * 100, 2), \"%\")\n",
        "print(\"\\nClassification Report GB Terbaik:\\n\", classification_report(y_test, y_pred_best_gb))\n",
        "\n",
        "# Confusion Matrix untuk model Gradient Boosting terbaik\n",
        "cm_best_gb = confusion_matrix(y_test, y_pred_best_gb)\n",
        "\n",
        "plt.figure(figsize=(6, 4))\n",
        "sns.heatmap(cm_best_gb, annot=True, fmt='d', cmap='Blues',\n",
        "            xticklabels=labels, yticklabels=labels)\n",
        "plt.xlabel('Predicted')\n",
        "plt.ylabel('Actual')\n",
        "plt.title('Confusion Matrix - Best Gradient Boosting')\n",
        "plt.show()"
      ]
    },
    {
      "cell_type": "markdown",
      "metadata": {
        "id": "3FDhpZybedQe"
      },
      "source": [
        "# Validasi dan Testing Akurasi Model"
      ]
    },
    {
      "cell_type": "code",
      "execution_count": 26,
      "metadata": {
        "id": "MDzaW0d5edQe",
        "outputId": "b76c6803-2381-4b19-c18f-857bd62a2f9b",
        "colab": {
          "base_uri": "https://localhost:8080/",
          "height": 653
        }
      },
      "outputs": [
        {
          "output_type": "stream",
          "name": "stdout",
          "text": [
            "\n",
            "=== EVALUASI MODEL RANDOM FOREST TERBAIK PADA DATA TEST ===\n",
            "Akurasi: 80.82 %\n",
            "\n",
            "Classification Report:\n",
            "               precision    recall  f1-score   support\n",
            "\n",
            "         0.0       0.83      0.95      0.88        56\n",
            "         1.0       0.67      0.35      0.46        17\n",
            "\n",
            "    accuracy                           0.81        73\n",
            "   macro avg       0.75      0.65      0.67        73\n",
            "weighted avg       0.79      0.81      0.79        73\n",
            "\n"
          ]
        },
        {
          "output_type": "display_data",
          "data": {
            "text/plain": [
              "<Figure size 600x400 with 2 Axes>"
            ],
            "image/png": "[encoded data removed]"
          },
          "metadata": {}
        }
      ],
      "source": [
        "# Prediksi menggunakan model Random Forest terbaik (hasil tuning dan feature selection)\n",
        "y_pred_rfe = best_rf_rfe.predict(X_test_rfe)\n",
        "\n",
        "# Evaluasi Model Final pada Data Test\n",
        "print(\"\\n=== EVALUASI MODEL RANDOM FOREST TERBAIK PADA DATA TEST ===\")\n",
        "print(\"Akurasi:\", round(accuracy_score(y_test, y_pred_rfe) * 100, 2), \"%\")\n",
        "print(\"\\nClassification Report:\\n\", classification_report(y_test, y_pred_rfe))\n",
        "\n",
        "# Confusion Matrix pada Data Test\n",
        "cm = confusion_matrix(y_test, y_pred_rfe)\n",
        "labels = ['Tidak Diabetes', 'Diabetes']\n",
        "\n",
        "plt.figure(figsize=(6, 4))\n",
        "sns.heatmap(cm, annot=True, fmt='d', cmap='Blues',\n",
        "            xticklabels=labels, yticklabels=labels)\n",
        "plt.xlabel('Predicted')\n",
        "plt.ylabel('Actual')\n",
        "plt.title('Confusion Matrix - Random Forest Best Model (Test Set)')\n",
        "plt.show()"
      ]
    },
    {
      "cell_type": "markdown",
      "metadata": {
        "id": "qDqJQFLCedQf"
      },
      "source": [
        "# Dokumentasi ML"
      ]
    },
    {
      "cell_type": "markdown",
      "metadata": {
        "id": "lESISGakedQf"
      },
      "source": [
        "# Dokumentasi Model Machine Learning Deteksi Diabetes\n",
        "\n",
        "Ini adalah dokumentasi untuk model machine learning yang dikembangkan untuk mendeteksi potensi diabetes berdasarkan data kesehatan.\n",
        "\n",
        "## 1. Detail Data\n",
        "\n",
        "### Sumber Data\n",
        "\n",
        "Proyek ini menggunakan kombinasi dua dataset:\n",
        "\n",
        "-   **Dataset Pima Indian Diabetes:** Dataset klasik yang sering digunakan untuk masalah klasifikasi diabetes. Diperoleh dari sumber publik (misalnya, UCI Machine Learning Repository). Dataset ini berisi data kesehatan wanita keturunan Indian Pima.\n",
        "-   **Dataset NHANES (National Health and Nutrition Examination Survey):** Data survei kesehatan dari CDC (Centers for Disease Control and Prevention) di Amerika Serikat. Kami menggunakan subset data yang relevan untuk prediksi usia, namun kolom-kolom yang serupa dengan dataset Pima dipilih dan disesuaikan. Diperoleh dari situs CDC NHANES.\n",
        "\n",
        "### Pembersihan dan Pra-pemrosesan Data\n",
        "\n",
        "Langkah-langkah pra-pemrosesan data meliputi:\n",
        "\n",
        "1.  **Loading Data:** Kedua dataset (`diabetes.csv` dan `NHANES_age_prediction.csv`) dimuat menggunakan `pandas`.\n",
        "2.  **Penanganan Nilai 0:** Pada dataset Pima, nilai `0` pada kolom `Glucose`, `BloodPressure`, `SkinThickness`, `Insulin`, dan `BMI` dianggap sebagai nilai yang hilang dan diganti dengan `NaN` (`Not a Number`) menggunakan `numpy.nan`.\n",
        "3.  **Imputasi Missing Values:** Nilai `NaN` pada kolom-kolom yang relevan di kedua dataset diisi menggunakan **median** dari masing-masing kolom. Median dipilih karena kurang sensitif terhadap outlier dibandingkan mean.\n",
        "4.  **Penyesuaian Dataset NHANES:**\n",
        "    *   Hanya kolom yang relevan (`RIDAGEYR`, `BMXBMI`, `LBXGLU`, `LBXIN`, `DIQ010`) yang diambil.\n",
        "    *   Nama kolom disesuaikan agar seragam dengan dataset Pima (`Age`, `BMI`, `Glucose`, `Insulin`, `Outcome`).\n",
        "    *   Kolom target `Outcome` dikonversi: `1` (diabetes) tetap `1`, sementara `2` dan `3` (bukan diabetes) dikonversi menjadi `0`.\n",
        "    *   Kolom tambahan seperti `Pregnancies`, `BloodPressure`, dan `SkinThickness` ditambahkan ke dataset NHANES dengan nilai awal `0` atau `NaN` agar strukturnya sama dengan Pima. Kolom `DiabetesPedigreeFunction` ditambahkan dengan nilai default `0.5` (nilai asumsi).\n",
        "    *   Urutan kolom diseragamkan.\n",
        "    *   Missing values pada kolom yang relevan (`Glucose`, `BloodPressure`, `SkinThickness`, `Insulin`, `BMI`) diisi dengan median dari dataset NHANES yang sudah disesuaikan.\n",
        "5.  **Penggabungan Dataset:** Kedua dataset (Pima dan NHANES yang sudah disesuaikan) digabungkan menjadi satu DataFrame (`combined_df`) menggunakan `pd.concat`.\n",
        "6.  **Penanganan Outlier:** Outlier pada kolom `Glucose`, `BloodPressure`, `SkinThickness`, `Insulin`, `BMI`, dan `Age` ditangani menggunakan metode **Interquartile Range (IQR)**. Data point yang berada di luar rentang `Q1 - 1.5*IQR` dan `Q3 + 1.5*IQR` dihapus dari dataset.\n",
        "7.  **Pemisahan Fitur dan Target:** Dataset dibagi menjadi fitur (`X`) dan variabel target (`y`, yaitu kolom `Outcome`).\n",
        "8.  **Feature Scaling:** Fitur (`X`) diskalakan menggunakan `StandardScaler` untuk menstandarkan nilainya (rata-rata 0 dan variansi 1). Ini penting untuk beberapa model machine learning yang sensitif terhadap skala fitur.\n",
        "9.  **Penanganan Ketidakseimbangan Kelas (SMOTE):** Data training yang sudah diskalakan di-resample menggunakan **SMOTE (Synthetic Minority Over-sampling Technique)** untuk mengatasi ketidakseimbangan antara jumlah sampel kelas 'Diabetes' (1) dan 'Tidak Diabetes' (0). *Catatan: Dalam kode Anda, SMOTE diterapkan pada data X_scaled dan y, tetapi model kemudian dilatih pada data yang tidak di-resample oleh SMOTE (X_train, y_train). Jika SMOTE ingin digunakan, model harus dilatih pada X_bal, y_bal atau X_train_bal, y_train_bal setelah split.* **Untuk akurasi dokumentasi berdasarkan kode yang dieksekusi, kita fokus pada alur tanpa SMOTE di langkah training final.**\n",
        "10. **Pemisahan Data Training dan Testing:** Data yang sudah diskalakan dibagi menjadi set training (80%) dan testing (20%) menggunakan `train_test_split` dengan `stratify=y` untuk menjaga proporsi kelas di kedua set dan `random_state=42` untuk reproduksibilitas.\n",
        "\n",
        "## 2. Model yang Dipilih\n",
        "\n",
        "Kami memilih untuk menggunakan **Random Forest Classifier** sebagai model utama karena kemampuannya menangani data non-linear, relatif tahan terhadap overfitting (dengan tuning yang tepat), dan memberikan informasi penting mengenai fitur (feature importance).\n",
        "\n",
        "### Arsitektur\n",
        "\n",
        "Random Forest adalah *ensemble method* yang membangun banyak pohon keputusan independen selama fase training dan menghasilkan prediksi yang merupakan mode (klasifikasi) atau rata-rata (regresi) dari prediksi pohon-pohon individu.\n",
        "\n",
        "### Hyperparameter Tuning\n",
        "\n",
        "Hyperparameter model `RandomForestClassifier` dituning menggunakan **Grid Search with Cross-Validation (GridSearchCV)**. Rentang parameter yang dieksplorasi adalah:\n",
        "\n",
        "-   `n_estimators`: [100, 200, 300] (Jumlah pohon dalam forest)\n",
        "-   `max_depth`: [10, 15, 20] (Kedalaman maksimum setiap pohon)\n",
        "-   `min_samples_split`: [2, 5, 10] (Jumlah minimum sampel yang diperlukan untuk memecah sebuah node internal)\n",
        "-   `min_samples_leaf`: [1, 2, 4] (Jumlah minimum sampel yang diperlukan di node daun)\n",
        "\n",
        "Metode `GridSearchCV` menggunakan 3-fold cross-validation (`cv=3`) pada set data training untuk mencari kombinasi hyperparameter yang memberikan performa terbaik. Model terbaik yang ditemukan oleh `GridSearchCV` disimpan sebagai `best_rf`.\n",
        "\n",
        "## 3. Feature Selection\n",
        "\n",
        "Setelah mendapatkan model Random Forest awal, dilakukan **Feature Selection** menggunakan **Recursive Feature Elimination (RFE)**. RFE bekerja dengan melatih model (di sini, Random Forest) berulang kali dan menghapus fitur dengan bobot paling rendah pada setiap iterasi, hingga jumlah fitur yang diinginkan tercapai.\n",
        "\n",
        "Dalam kasus ini, RFE dikonfigurasi untuk memilih **4 fitur terbaik** (`n_features_to_select=4`) berdasarkan model Random Forest. Model Random Forest yang digunakan dalam RFE diinisialisasi terpisah dengan `random_state=42`.\n",
        "\n",
        "Data training dan testing kemudian ditransformasi (`fit_transform` pada training, `transform` pada testing) untuk hanya menyertakan 4 fitur yang dipilih oleh RFE.\n",
        "\n",
        "## 4. Tuning Hyperparameter (dengan Fitur Terpilih)\n",
        "\n",
        "Model `RandomForestClassifier` kembali dituning menggunakan **GridSearchCV**, tetapi kali ini dilatih dan dievaluasi pada data training yang hanya berisi 4 fitur terpilih (`X_train_rfe`, `y_train`).\n",
        "\n",
        "`param_grid` yang digunakan sama seperti sebelumnya:\n",
        "\n",
        "-   `n_estimators`: [100, 200, 300]\n",
        "-   `max_depth`: [10, 15, 20]\n",
        "-   `min_samples_split`: [2, 5, 10]\n",
        "-   `min_samples_leaf`: [1, 2, 4]\n",
        "\n",
        "Model terbaik dari proses tuning ini, yang dilatih pada 4 fitur terpilih, disimpan sebagai `best_rf_rfe`. Model inilah yang dianggap sebagai model final dan digunakan untuk evaluasi akhir.\n",
        "\n",
        "## 5. Hasil Eksperimen dan Evaluasi Kinerja Model\n",
        "\n",
        "Model final (`best_rf_rfe`) dievaluasi pada set data test (`X_test_rfe`, `y_test`) yang sepenuhnya terpisah. Metrik evaluasi utama meliputi:\n",
        "\n",
        "-   **Akurasi:** Proporsi prediksi yang benar.\n",
        "-   **Classification Report:** Meliputi Precision, Recall, F1-score, dan Support untuk setiap kelas.\n",
        "-   **Confusion Matrix:** Tabel yang menunjukkan jumlah True Positives (TP), True Negatives (TN), False Positives (FP), dan False Negatives (FN).\n",
        "\n",
        "**Hasil Evaluasi pada Data Test:**\n",
        "\n",
        "=== EVALUASI MODEL RANDOM FOREST TERBAIK PADA DATA TEST ===\n",
        "Akurasi: 80.82 %\n",
        "\n",
        "Classification Report:\n",
        "               precision    recall  f1-score   support\n",
        "\n",
        "         0.0       0.83      0.95      0.88        56\n",
        "         1.0       0.67      0.35      0.46        17\n",
        "\n",
        "    accuracy                           0.81        73\n",
        "   macro avg       0.75      0.65      0.67        73\n",
        "weighted avg       0.79      0.81      0.79        73\n",
        "\n"
      ]
    },
    {
      "cell_type": "markdown",
      "metadata": {
        "id": "GnWo7lvpedQg"
      },
      "source": [
        "# Menyimpan Model ke .pkl"
      ]
    },
    {
      "cell_type": "code",
      "execution_count": 27,
      "metadata": {
        "id": "pazQWjtVedQg",
        "outputId": "53324196-f6e9-4ed3-a44f-1a13f29c113b",
        "colab": {
          "base_uri": "https://localhost:8080/"
        }
      },
      "outputs": [
        {
          "output_type": "stream",
          "name": "stdout",
          "text": [
            "Model disimpan ke: model_artifacts/best_random_forest_model_rfe.pkl\n",
            "Scaler disimpan ke: model_artifacts/scaler.pkl\n",
            "RFE Selector disimpan ke: model_artifacts/rfe_selector.pkl\n",
            "\n",
            "Semua artefak model berhasil disimpan.\n"
          ]
        }
      ],
      "source": [
        "# Simpan Model, Scaler, dan RFE Selector Menggunakan Joblib\n",
        "\n",
        "import joblib\n",
        "import os # Mengimpor modul os untuk memastikan direktori ada\n",
        "\n",
        "# Definisikan direktori untuk menyimpan artefak\n",
        "output_dir = 'model_artifacts'\n",
        "os.makedirs(output_dir, exist_ok=True) # Buat direktori jika belum ada\n",
        "\n",
        "# Simpan model Random Forest terbaik (setelah tuning dan dilatih pada data RFE)\n",
        "model_filename = os.path.join(output_dir, 'best_random_forest_model_rfe.pkl')\n",
        "joblib.dump(best_rf_rfe, model_filename)\n",
        "\n",
        "print(f\"Model disimpan ke: {model_filename}\")\n",
        "\n",
        "# Simpan scaler yang digunakan untuk scaling fitur\n",
        "scaler_filename = os.path.join(output_dir, 'scaler.pkl')\n",
        "joblib.dump(scaler, scaler_filename)\n",
        "\n",
        "print(f\"Scaler disimpan ke: {scaler_filename}\")\n",
        "\n",
        "# Simpan RFE selector yang digunakan untuk memilih fitur\n",
        "rfe_selector_filename = os.path.join(output_dir, 'rfe_selector.pkl')\n",
        "joblib.dump(rfe_selector, rfe_selector_filename)\n",
        "\n",
        "print(f\"RFE Selector disimpan ke: {rfe_selector_filename}\")\n",
        "\n",
        "print(\"\\nSemua artefak model berhasil disimpan.\")"
      ]
    },
    {
      "cell_type": "markdown",
      "metadata": {
        "id": "f6rCMCxFjUqQ"
      },
      "source": [
        "# Integrasi Model ke API"
      ]
    },
    {
      "cell_type": "code",
      "source": [
        "!pip install fastapi uvicorn"
      ],
      "metadata": {
        "colab": {
          "base_uri": "https://localhost:8080/"
        },
        "id": "LaIjmAXu0Ft9",
        "outputId": "27cf01f8-b630-4ebf-b067-b1d4aeb93f3f"
      },
      "execution_count": 28,
      "outputs": [
        {
          "output_type": "stream",
          "name": "stdout",
          "text": [
            "Requirement already satisfied: fastapi in /usr/local/lib/python3.11/dist-packages (0.115.12)\n",
            "Requirement already satisfied: uvicorn in /usr/local/lib/python3.11/dist-packages (0.34.2)\n",
            "Requirement already satisfied: starlette<0.47.0,>=0.40.0 in /usr/local/lib/python3.11/dist-packages (from fastapi) (0.46.2)\n",
            "Requirement already satisfied: pydantic!=1.8,!=1.8.1,!=2.0.0,!=2.0.1,!=2.1.0,<3.0.0,>=1.7.4 in /usr/local/lib/python3.11/dist-packages (from fastapi) (2.11.4)\n",
            "Requirement already satisfied: typing-extensions>=4.8.0 in /usr/local/lib/python3.11/dist-packages (from fastapi) (4.13.2)\n",
            "Requirement already satisfied: click>=7.0 in /usr/local/lib/python3.11/dist-packages (from uvicorn) (8.2.0)\n",
            "Requirement already satisfied: h11>=0.8 in /usr/local/lib/python3.11/dist-packages (from uvicorn) (0.16.0)\n",
            "Requirement already satisfied: annotated-types>=0.6.0 in /usr/local/lib/python3.11/dist-packages (from pydantic!=1.8,!=1.8.1,!=2.0.0,!=2.0.1,!=2.1.0,<3.0.0,>=1.7.4->fastapi) (0.7.0)\n",
            "Requirement already satisfied: pydantic-core==2.33.2 in /usr/local/lib/python3.11/dist-packages (from pydantic!=1.8,!=1.8.1,!=2.0.0,!=2.0.1,!=2.1.0,<3.0.0,>=1.7.4->fastapi) (2.33.2)\n",
            "Requirement already satisfied: typing-inspection>=0.4.0 in /usr/local/lib/python3.11/dist-packages (from pydantic!=1.8,!=1.8.1,!=2.0.0,!=2.0.1,!=2.1.0,<3.0.0,>=1.7.4->fastapi) (0.4.0)\n",
            "Requirement already satisfied: anyio<5,>=3.6.2 in /usr/local/lib/python3.11/dist-packages (from starlette<0.47.0,>=0.40.0->fastapi) (4.9.0)\n",
            "Requirement already satisfied: idna>=2.8 in /usr/local/lib/python3.11/dist-packages (from anyio<5,>=3.6.2->starlette<0.47.0,>=0.40.0->fastapi) (3.10)\n",
            "Requirement already satisfied: sniffio>=1.1 in /usr/local/lib/python3.11/dist-packages (from anyio<5,>=3.6.2->starlette<0.47.0,>=0.40.0->fastapi) (1.3.1)\n"
          ]
        }
      ]
    },
    {
      "cell_type": "code",
      "source": [
        "# app.py\n",
        "from fastapi import FastAPI, HTTPException\n",
        "from pydantic import BaseModel\n",
        "import joblib\n",
        "import numpy as np\n",
        "import pandas as pd\n",
        "import os\n",
        "\n",
        "# Definisikan path ke artefak model\n",
        "MODEL_DIR = 'model_artifacts'\n",
        "MODEL_PATH = os.path.join(MODEL_DIR, 'best_random_forest_model_rfe.pkl')\n",
        "SCALER_PATH = os.path.join(MODEL_DIR, 'scaler.pkl')\n",
        "RFE_SELECTOR_PATH = os.path.join(MODEL_DIR, 'rfe_selector.pkl')\n",
        "\n",
        "# Memuat model, scaler, dan RFE selector saat aplikasi dimulai\n",
        "try:\n",
        "    model = joblib.load(MODEL_PATH)\n",
        "    scaler = joblib.load(SCALER_PATH)\n",
        "    rfe_selector = joblib.load(RFE_SELECTOR_PATH)\n",
        "    print(\"Model, Scaler, dan RFE Selector berhasil dimuat.\")\n",
        "except FileNotFoundError as e:\n",
        "    print(f\"Error: File artefak model tidak ditemukan. Pastikan Anda sudah menjalankan bagian penyimpanan model. Detail: {e}\")\n",
        "    model = None\n",
        "    scaler = None\n",
        "    rfe_selector = None\n",
        "\n",
        "# Inisialisasi aplikasi FastAPI\n",
        "app = FastAPI()\n",
        "\n",
        "class PredictionInput(BaseModel):\n",
        "    Pregnancies: float\n",
        "    Glucose: float\n",
        "    BloodPressure: float\n",
        "    SkinThickness: float\n",
        "    Insulin: float\n",
        "    BMI: float\n",
        "    DiabetesPedigreeFunction: float\n",
        "    Age: float\n",
        "\n",
        "# Mendefinisikan endpoint prediksi\n",
        "@app.post(\"/predict/\")\n",
        "async def predict_diabetes(data: PredictionInput):\n",
        "    if model is None or scaler is None or rfe_selector is None:\n",
        "        raise HTTPException(status_code=500, detail=\"Model atau artefak lainnya gagal dimuat saat startup.\")\n",
        "\n",
        "    input_data_np = np.array([\n",
        "        data.Pregnancies,\n",
        "        data.Glucose,\n",
        "        data.BloodPressure,\n",
        "        data.SkinThickness,\n",
        "        data.Insulin,\n",
        "        data.BMI,\n",
        "        data.DiabetesPedigreeFunction,\n",
        "        data.Age\n",
        "    ]).reshape(1, -1)\n",
        "\n",
        "    # Feature scaling menggunakan scaler yang sudah dimuat\n",
        "    input_data_scaled = scaler.transform(input_data_np)\n",
        "\n",
        "    # Feature selection menggunakan RFE selector yang sudah dimuat\n",
        "    input_data_rfe = rfe_selector.transform(input_data_scaled)\n",
        "\n",
        "    # Prediksi menggunakan model yang sudah dimuat\n",
        "    prediction = model.predict(input_data_rfe)\n",
        "\n",
        "    # Konversi hasil prediksi (numpy array) ke tipe data Python native\n",
        "    result = int(prediction[0])\n",
        "\n",
        "    # Interpretasikan hasil prediksi\n",
        "    prediction_label = \"Diabetes\" if result == 1 else \"Tidak Diabetes\"\n",
        "\n",
        "    # Kembalikan hasil prediksi dalam format JSON\n",
        "    return {\"prediction\": prediction_label, \"raw_output\": result}\n",
        "\n",
        "@app.get(\"/\")\n",
        "async def read_root():\n",
        "    return {\"message\": \"API Deteksi Diabetes Berjalan\"}"
      ],
      "metadata": {
        "id": "IjVZouOcoCRY",
        "colab": {
          "base_uri": "https://localhost:8080/"
        },
        "outputId": "f5e5313f-63dc-4dcc-ed4a-5d81d0427871"
      },
      "execution_count": 29,
      "outputs": [
        {
          "output_type": "stream",
          "name": "stdout",
          "text": [
            "Model, Scaler, dan RFE Selector berhasil dimuat.\n"
          ]
        }
      ]
    },
    {
      "cell_type": "code",
      "source": [
        "!zip -r model_artifacts.zip model_artifacts\n",
        "from google.colab import files\n",
        "files.download('model_artifacts.zip')\n"
      ],
      "metadata": {
        "colab": {
          "base_uri": "https://localhost:8080/",
          "height": 86
        },
        "collapsed": true,
        "id": "9bsyf6WG3S0p",
        "outputId": "f443fea3-041f-4442-94cd-afabb558d456"
      },
      "execution_count": 33,
      "outputs": [
        {
          "output_type": "stream",
          "name": "stdout",
          "text": [
            "  adding: model_artifacts/ (stored 0%)\n",
            "  adding: model_artifacts/best_random_forest_model_rfe.pkl (deflated 82%)\n",
            "  adding: model_artifacts/rfe_selector.pkl (deflated 83%)\n",
            "  adding: model_artifacts/scaler.pkl (deflated 32%)\n"
          ]
        },
        {
          "output_type": "display_data",
          "data": {
            "text/plain": [
              "<IPython.core.display.Javascript object>"
            ],
            "application/javascript": [
              "\n",
              "    async function download(id, filename, size) {\n",
              "      if (!google.colab.kernel.accessAllowed) {\n",
              "        return;\n",
              "      }\n",
              "      const div = document.createElement('div');\n",
              "      const label = document.createElement('label');\n",
              "      label.textContent = `Downloading \"${filename}\": `;\n",
              "      div.appendChild(label);\n",
              "      const progress = document.createElement('progress');\n",
              "      progress.max = size;\n",
              "      div.appendChild(progress);\n",
              "      document.body.appendChild(div);\n",
              "\n",
              "      const buffers = [];\n",
              "      let downloaded = 0;\n",
              "\n",
              "      const channel = await google.colab.kernel.comms.open(id);\n",
              "      // Send a message to notify the kernel that we're ready.\n",
              "      channel.send({})\n",
              "\n",
              "      for await (const message of channel.messages) {\n",
              "        // Send a message to notify the kernel that we're ready.\n",
              "        channel.send({})\n",
              "        if (message.buffers) {\n",
              "          for (const buffer of message.buffers) {\n",
              "            buffers.push(buffer);\n",
              "            downloaded += buffer.byteLength;\n",
              "            progress.value = downloaded;\n",
              "          }\n",
              "        }\n",
              "      }\n",
              "      const blob = new Blob(buffers, {type: 'application/binary'});\n",
              "      const a = document.createElement('a');\n",
              "      a.href = window.URL.createObjectURL(blob);\n",
              "      a.download = filename;\n",
              "      div.appendChild(a);\n",
              "      a.click();\n",
              "      div.remove();\n",
              "    }\n",
              "  "
            ]
          },
          "metadata": {}
        },
        {
          "output_type": "display_data",
          "data": {
            "text/plain": [
              "<IPython.core.display.Javascript object>"
            ],
            "application/javascript": [
              "download(\"download_31574a88-9be6-4559-9362-d112abbff07e\", \"model_artifacts.zip\", 227031)"
            ]
          },
          "metadata": {}
        }
      ]
    },
    {
      "cell_type": "code",
      "source": [],
      "metadata": {
        "id": "08t-FZ5n3Syu"
      },
      "execution_count": null,
      "outputs": []
    }
  ],
  "metadata": {
    "colab": {
      "provenance": []
    },
    "kernelspec": {
      "display_name": "Python [conda env:base] *",
      "language": "python",
      "name": "conda-base-py"
    },
    "language_info": {
      "codemirror_mode": {
        "name": "ipython",
        "version": 3
      },
      "file_extension": ".py",
      "mimetype": "text/x-python",
      "name": "python",
      "nbconvert_exporter": "python",
      "pygments_lexer": "ipython3",
      "version": "3.12.7"
    }
  },
  "nbformat": 4,
  "nbformat_minor": 0
}