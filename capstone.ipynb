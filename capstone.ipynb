{
  "nbformat": 4,
  "nbformat_minor": 0,
  "metadata": {
    "colab": {
      "provenance": []
    },
    "kernelspec": {
      "name": "python3",
      "display_name": "Python 3"
    },
    "language_info": {
      "name": "python"
    }
  },
  "cells": [
    {
      "cell_type": "markdown",
      "source": [
        "# Import Library"
      ],
      "metadata": {
        "id": "F1YjENI601_l"
      }
    },
    {
      "cell_type": "code",
      "execution_count": 87,
      "metadata": {
        "id": "QBp7t4QYyI4U"
      },
      "outputs": [],
      "source": [
        "import pandas as pd\n",
        "import numpy as np\n",
        "import matplotlib.pyplot as plt\n",
        "import seaborn as sns\n",
        "\n",
        "from sklearn.model_selection import train_test_split, GridSearchCV\n",
        "from sklearn.preprocessing import StandardScaler\n",
        "from sklearn.metrics import accuracy_score, classification_report, confusion_matrix\n",
        "from sklearn.ensemble import RandomForestClassifier\n",
        "from imblearn.over_sampling import SMOTE"
      ]
    },
    {
      "cell_type": "markdown",
      "source": [
        "# Preprocessing Data"
      ],
      "metadata": {
        "id": "M_H4vEPEDqqR"
      }
    },
    {
      "cell_type": "code",
      "source": [
        "# LOAD & PREPROCESSING DATASET PIMA\n",
        "pima = pd.read_csv(\"/content/diabetes.csv\")"
      ],
      "metadata": {
        "id": "EKdpa2aSzoYv"
      },
      "execution_count": 62,
      "outputs": []
    },
    {
      "cell_type": "code",
      "source": [
        "# Ganti nilai 0 (yang artinya missing) dengan NaN\n",
        "cols_to_fix = ['Glucose', 'BloodPressure', 'SkinThickness', 'Insulin', 'BMI']\n",
        "pima[cols_to_fix] = pima[cols_to_fix].replace(0, np.nan)"
      ],
      "metadata": {
        "id": "ADhFnBde55Jd"
      },
      "execution_count": 63,
      "outputs": []
    },
    {
      "cell_type": "code",
      "source": [
        "# Isi missing value Pima dengan median\n",
        "pima[cols_to_fix] = pima[cols_to_fix].fillna(pima[cols_to_fix].median())"
      ],
      "metadata": {
        "id": "ocJAHw66zvi8"
      },
      "execution_count": 64,
      "outputs": []
    },
    {
      "cell_type": "code",
      "source": [
        "# LOAD & PREPROCESSING DATASET NHANES\n",
        "nhanes = pd.read_csv(\"/content/NHANES_age_prediction.csv\")"
      ],
      "metadata": {
        "id": "3gpXJT4b0ZFK"
      },
      "execution_count": 65,
      "outputs": []
    },
    {
      "cell_type": "code",
      "source": [
        "# Ambil kolom relevan & ubah nama agar sesuai dengan Pima\n",
        "nhanes_clean = nhanes[['RIDAGEYR', 'BMXBMI', 'LBXGLU', 'LBXIN', 'DIQ010']].copy()\n",
        "nhanes_clean = nhanes_clean.rename(columns={\n",
        "    'RIDAGEYR': 'Age',\n",
        "    'BMXBMI': 'BMI',\n",
        "    'LBXGLU': 'Glucose',\n",
        "    'LBXIN': 'Insulin',\n",
        "    'DIQ010': 'Outcome'\n",
        "})"
      ],
      "metadata": {
        "id": "ZDGday6f7PcP"
      },
      "execution_count": 66,
      "outputs": []
    },
    {
      "cell_type": "code",
      "source": [
        "# Konversi label NHANES (1 = diabetes, 2/3 = bukan diabetes)\n",
        "nhanes_clean['Outcome'] = nhanes_clean['Outcome'].replace({2: 0, 3: 0})"
      ],
      "metadata": {
        "id": "KLGWBr5A7fyU"
      },
      "execution_count": 67,
      "outputs": []
    },
    {
      "cell_type": "code",
      "source": [
        "# Tambahkan kolom kosong agar strukturnya seragam dengan Pima\n",
        "nhanes_clean['Pregnancies'] = 0\n",
        "nhanes_clean['BloodPressure'] = np.nan\n",
        "nhanes_clean['SkinThickness'] = np.nan\n",
        "nhanes_clean['DiabetesPedigreeFunction'] = 0.5  # nilai asumsi default"
      ],
      "metadata": {
        "id": "t7dad91fD-eM"
      },
      "execution_count": 68,
      "outputs": []
    },
    {
      "cell_type": "code",
      "source": [
        "# Susun ulang kolom\n",
        "column_order = ['Pregnancies', 'Glucose', 'BloodPressure', 'SkinThickness',\n",
        "                'Insulin', 'BMI', 'DiabetesPedigreeFunction', 'Age', 'Outcome']\n",
        "nhanes_clean = nhanes_clean[column_order]"
      ],
      "metadata": {
        "id": "erfKrKPq2wG_"
      },
      "execution_count": 69,
      "outputs": []
    },
    {
      "cell_type": "code",
      "source": [
        "# Isi missing values NHANES dengan median\n",
        "nhanes_clean[cols_to_fix] = nhanes_clean[cols_to_fix].fillna(nhanes_clean[cols_to_fix].median())"
      ],
      "metadata": {
        "id": "QQLEu7PD20SL"
      },
      "execution_count": 70,
      "outputs": []
    },
    {
      "cell_type": "code",
      "source": [
        "# GABUNGKAN DATASET PIMA + NHANES\n",
        "combined_df = pd.concat([pima, nhanes_clean], ignore_index=True)"
      ],
      "metadata": {
        "id": "TI80lxBV5YyD"
      },
      "execution_count": 71,
      "outputs": []
    },
    {
      "cell_type": "code",
      "source": [
        "# TANGANI OUTLIER DENGAN METODE IQR\n",
        "def remove_outliers_iqr(df, columns):\n",
        "    for col in columns:\n",
        "        Q1 = df[col].quantile(0.25)\n",
        "        Q3 = df[col].quantile(0.75)\n",
        "        IQR = Q3 - Q1\n",
        "        lower = Q1 - 1.5 * IQR\n",
        "        upper = Q3 + 1.5 * IQR\n",
        "        df = df[(df[col] >= lower) & (df[col] <= upper)]\n",
        "    return df\n",
        "\n",
        "combined_df = remove_outliers_iqr(combined_df, cols_to_fix + ['Age'])"
      ],
      "metadata": {
        "id": "Kg8HofsR4RnL"
      },
      "execution_count": 72,
      "outputs": []
    },
    {
      "cell_type": "code",
      "source": [
        "# PISAHKAN FITUR & TARGET\n",
        "X = combined_df.drop(columns='Outcome')\n",
        "y = combined_df['Outcome']"
      ],
      "metadata": {
        "id": "2qhKVAWVFd8G"
      },
      "execution_count": 73,
      "outputs": []
    },
    {
      "cell_type": "code",
      "source": [
        "# FEATURE SCALING\n",
        "scaler = StandardScaler()\n",
        "X_scaled = scaler.fit_transform(X)"
      ],
      "metadata": {
        "id": "JGFSP3Dk4W-6"
      },
      "execution_count": 74,
      "outputs": []
    },
    {
      "cell_type": "code",
      "source": [
        "# SMOTE (balancing)\n",
        "smote = SMOTE(random_state=42)\n",
        "X_bal, y_bal = smote.fit_resample(X_scaled, y)"
      ],
      "metadata": {
        "id": "FjedJGYV1klO"
      },
      "execution_count": 75,
      "outputs": []
    },
    {
      "cell_type": "code",
      "source": [
        "# SPLIT DATA\n",
        "X_train, X_test, y_train, y_test = train_test_split(\n",
        "    X_scaled, y, test_size=0.2, stratify=y, random_state=42\n",
        ")"
      ],
      "metadata": {
        "id": "QtNpGJ1-zalE"
      },
      "execution_count": 76,
      "outputs": []
    },
    {
      "cell_type": "markdown",
      "source": [
        "#  Training Model ML"
      ],
      "metadata": {
        "id": "XXxPNULy5hyq"
      }
    },
    {
      "cell_type": "code",
      "source": [
        "# Hyperparameter tuning untuk RandomForest menggunakan GridSearchCV\n",
        "param_grid = {\n",
        "    'n_estimators': [100, 200, 300],\n",
        "    'max_depth': [10, 15, 20],\n",
        "    'min_samples_split': [2, 5, 10],\n",
        "    'min_samples_leaf': [1, 2, 4]\n",
        "}\n",
        "\n",
        "rf = RandomForestClassifier(random_state=42)\n",
        "grid_search = GridSearchCV(estimator=rf, param_grid=param_grid, cv=3, n_jobs=-1, verbose=2)\n",
        "grid_search.fit(X_train, y_train)\n",
        "\n",
        "# Pilih model terbaik\n",
        "best_rf = grid_search.best_estimator_\n",
        "\n",
        "# Prediksi\n",
        "y_pred = best_rf.predict(X_test)"
      ],
      "metadata": {
        "id": "BbsyCMqD4Zck",
        "colab": {
          "base_uri": "https://localhost:8080/"
        },
        "outputId": "02f26f16-7937-4f09-e604-9a02fc06ec53"
      },
      "execution_count": 85,
      "outputs": [
        {
          "output_type": "stream",
          "name": "stdout",
          "text": [
            "Fitting 3 folds for each of 81 candidates, totalling 243 fits\n"
          ]
        }
      ]
    },
    {
      "cell_type": "markdown",
      "source": [
        "# Evaluasi Model"
      ],
      "metadata": {
        "id": "Fyfy7v7CEhtr"
      }
    },
    {
      "cell_type": "code",
      "source": [
        "# Evaluasi\n",
        "print(\"=== EVALUASI MODEL ===\")\n",
        "print(\"Akurasi:\", round(accuracy_score(y_test, y_pred) * 100, 2), \"%\")\n",
        "print(\"\\nClassification Report:\\n\", classification_report(y_test, y_pred))\n",
        "\n",
        "# Confusion Matrix\n",
        "cm = confusion_matrix(y_test, y_pred)\n",
        "labels = ['Tidak Diabetes', 'Diabetes']\n",
        "\n",
        "plt.figure(figsize=(6, 4))\n",
        "sns.heatmap(cm, annot=True, fmt='d', cmap='Blues',\n",
        "            xticklabels=labels, yticklabels=labels)\n",
        "plt.xlabel('Predicted')\n",
        "plt.ylabel('Actual')\n",
        "plt.title('Confusion Matrix')\n",
        "plt.show()"
      ],
      "metadata": {
        "colab": {
          "base_uri": "https://localhost:8080/",
          "height": 636
        },
        "id": "vOkX5UMIEjAv",
        "outputId": "849baa17-6263-4a19-de1b-ea3bf5ee7211"
      },
      "execution_count": 86,
      "outputs": [
        {
          "output_type": "stream",
          "name": "stdout",
          "text": [
            "=== EVALUASI MODEL ===\n",
            "Akurasi: 76.71 %\n",
            "\n",
            "Classification Report:\n",
            "               precision    recall  f1-score   support\n",
            "\n",
            "         0.0       0.78      0.96      0.86        56\n",
            "         1.0       0.50      0.12      0.19        17\n",
            "\n",
            "    accuracy                           0.77        73\n",
            "   macro avg       0.64      0.54      0.53        73\n",
            "weighted avg       0.72      0.77      0.71        73\n",
            "\n"
          ]
        },
        {
          "output_type": "display_data",
          "data": {
            "text/plain": [
              "<Figure size 600x400 with 2 Axes>"
            ],
            "image/png": "[encoded data removed]"
          },
          "metadata": {}
        }
      ]
    }
  ]
}